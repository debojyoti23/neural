{
 "cells": [
  {
   "cell_type": "markdown",
   "metadata": {},
   "source": [
    "## Import section"
   ]
  },
  {
   "cell_type": "code",
   "execution_count": 23,
   "metadata": {
    "collapsed": false
   },
   "outputs": [],
   "source": [
    "import os\n",
    "import numpy\n",
    "import datetime\n",
    "import re\n",
    "import math\n",
    "# Logger\n",
    "import logging\n",
    "logger = logging.getLogger()\n",
    "logger.setLevel(logging.DEBUG)\n",
    "# nltk\n",
    "import nltk\n",
    "# Scipy\n",
    "from scipy import sparse\n",
    "# Pickle\n",
    "import cPickle as pkl\n",
    "# BeautifulSoup\n",
    "from bs4 import BeautifulSoup\n",
    "# To print all outputs, not just the last one\n",
    "from IPython.core.interactiveshell import InteractiveShell\n",
    "InteractiveShell.ast_node_interactivity = \"all\""
   ]
  },
  {
   "cell_type": "code",
   "execution_count": 2,
   "metadata": {
    "collapsed": true
   },
   "outputs": [],
   "source": [
    "dir_vocab = \"/home/debojyoti/aclImdb/imdb.vocab\"\n",
    "dir_pos = \"/home/debojyoti/aclImdb/train/pos/\"\n",
    "dir_neg = \"/home/debojyoti/aclImdb/train/neg/\""
   ]
  },
  {
   "cell_type": "code",
   "execution_count": 3,
   "metadata": {
    "collapsed": false
   },
   "outputs": [],
   "source": [
    "vocab = set([])\n",
    "for word in open(dir_vocab):\n",
    "    vocab.add(str(word).split()[0])\n",
    "vocab = numpy.asarray(sorted(vocab))\n",
    "vocab = dict(zip(vocab,range(len(vocab))))\n",
    "n_vocab = len(vocab)"
   ]
  },
  {
   "cell_type": "markdown",
   "metadata": {},
   "source": [
    "## Computing BoW feature vector"
   ]
  },
  {
   "cell_type": "code",
   "execution_count": 98,
   "metadata": {
    "collapsed": false
   },
   "outputs": [
    {
     "name": "stderr",
     "output_type": "stream",
     "text": [
      "INFO:root:Feature vectors for positive reviews constructed.\n",
      "INFO:root:Feature vectors for negative reviews constructed.\n"
     ]
    }
   ],
   "source": [
    "fvec_pos = numpy.zeros((len(os.listdir(dir_pos)),n_vocab),dtype=numpy.int)\n",
    "fvec_neg = numpy.zeros((len(os.listdir(dir_neg)),n_vocab),dtype=numpy.int)\n",
    "logging.info(\"train pos size: %s\",str(fvec_pos.shape))\n",
    "logging.info(\"train neg size: %s\",str(fvec_pos.shape))\n",
    "# BoW for positive reviews\n",
    "files=[os.path.join(dir_pos,f) for f in os.listdir(dir_pos)]\n",
    "exc_ct_p = 0\n",
    "exc_ct_n = 0\n",
    "datetime.datetime.now()\n",
    "for index,fname in enumerate(files):\n",
    "    with open(fname) as myfile:\n",
    "        data = myfile.read()\n",
    "        data_clean = BeautifulSoup(data)\n",
    "        data = data_clean.get_text()\n",
    "        tokens_truncated = [token for token in nltk.word_tokenize(data) if not re.match(r'\\W+',token)]\n",
    "        try:\n",
    "            tokens = [str(token).lower() for token in tokens_truncated]\n",
    "        except Exception as exc:\n",
    "            # logging.debug(\"%s: %s\",fname,exc)\n",
    "            exc_ct_p += 1\n",
    "            # Just ignore the exceptional token, read the rest\n",
    "            tokens = []\n",
    "            for token in tokens_truncated:\n",
    "                try:\n",
    "                    tokens.append(str(token))\n",
    "                except:\n",
    "                    continue\n",
    "        for token in tokens:\n",
    "            try:\n",
    "                fvec_pos[index][vocab[token]]=1\n",
    "            except:\n",
    "                pass\n",
    "logging.info(\"Feature vectors for positive reviews constructed. Exception Count: %d\",exc_ct_p)\n",
    "# BoW for negative reviews\n",
    "files=[os.path.join(dir_neg,f) for f in os.listdir(dir_neg)]\n",
    "for index,fname in enumerate(files):\n",
    "    with open(fname) as myfile:\n",
    "        data = myfile.read()\n",
    "        data_clean = BeautifulSoup(data)\n",
    "        data = data_clean.get_text()\n",
    "        tokens_truncated = [token for token in nltk.word_tokenize(data) if not re.match(r'\\W+',token)]\n",
    "        try:\n",
    "            tokens = [str(token).lower() for token in tokens_truncated]\n",
    "        except Exception as exc:\n",
    "            # logging.debug(\"%s %s\",fname,exc)\n",
    "            exc_ct_n += 1\n",
    "            # Just ignore the exceptional token, read the rest\n",
    "            tokens = []\n",
    "            for token in tokens_truncated:\n",
    "                try:\n",
    "                    tokens.append(str(token))\n",
    "                except:\n",
    "                    continue\n",
    "        for token in tokens:\n",
    "            try:\n",
    "                fvec_neg[index][vocab[token]]=1\n",
    "            except:\n",
    "                pass\n",
    "logging.info(\"Feature vectors for negative reviews constructed. Exception Count: %d\",exc_ct_n)\n",
    "datetime.datetime.now()\n",
    "fvec_pos = sparse.csr_matrix(fvec_pos)\n",
    "fvec_neg = sparse.csr_matrix(fvec_neg)\n",
    "with open('pos_BoW_pkl.bin','wb') as outfile:\n",
    "    pkl.dump(fvec_pos,outfile,pkl.HIGHEST_PROTOCOL)\n",
    "with open('neg_BoW_pkl.bin','wb') as outfile:\n",
    "    pkl.dump(fvec_neg,outfile,pkl.HIGHEST_PROTOCOL)"
   ]
  },
  {
   "cell_type": "markdown",
   "metadata": {},
   "source": [
    "## Function to compute no of documents in which a token takes place"
   ]
  },
  {
   "cell_type": "code",
   "execution_count": 28,
   "metadata": {
    "collapsed": false
   },
   "outputs": [],
   "source": [
    "def compute_doc_count(dirname,indctr):\n",
    "    # this function finds the number of documents a word occurs in, for each word\n",
    "    # indctr=1 for positive -1 for negative\n",
    "    if indctr==1 and os.path.isfile('pos_doc_count.bin'):\n",
    "        with open('pos_doc_count.bin','rb') as myfile:\n",
    "            doc_count = pkl.load(myfile)\n",
    "            return doc_count\n",
    "    if indctr==-1 and os.path.isfile('neg_doc_count.bin'):\n",
    "        with open('neg_doc_count.bin','rb') as myfile:\n",
    "            doc_count = pkl.load(myfile)\n",
    "            return doc_count\n",
    "    vocab_list = numpy.asarray(vocab.keys())\n",
    "    doc_count = dict(zip(vocab_list,numpy.zeros(len(vocab_list),dtype=numpy.int)))\n",
    "    files=[os.path.join(dirname,f) for f in os.listdir(dirname)]\n",
    "    for fname in files:\n",
    "        with open(fname) as myfile:\n",
    "            data = myfile.read()\n",
    "            data_clean = BeautifulSoup(data)\n",
    "            data = data_clean.get_text()\n",
    "            tokens_truncated = [token for token in nltk.word_tokenize(data) if not re.match(r'\\W+',token)]\n",
    "            try:\n",
    "                tokens = [str(token).lower() for token in tokens_truncated]\n",
    "            except Exception as exc:\n",
    "                tokens = []\n",
    "                for token in tokens_truncated:\n",
    "                    try:\n",
    "                        tokens.append(str(token))\n",
    "                    except:\n",
    "                        continue\n",
    "            for token in set(tokens):\n",
    "                try:\n",
    "                    doc_count[token] += 1\n",
    "                except:\n",
    "                    pass\n",
    "    # save count_dict in a file\n",
    "    if indctr==1:\n",
    "        with open('pos_doc_count.bin','wb') as outfile:\n",
    "            pkl.dump(doc_count,outfile,pkl.HIGHEST_PROTOCOL)\n",
    "    elif indctr==-1:\n",
    "        with open('neg_doc_count.bin','wb') as outfile:\n",
    "            pkl.dump(doc_count,outfile,pkl.HIGHEST_PROTOCOL)\n",
    "    return doc_count\n",
    "\n",
    "# compute_doc_count()"
   ]
  },
  {
   "cell_type": "markdown",
   "metadata": {},
   "source": [
    "## Computing tf-idf feature vectors"
   ]
  },
  {
   "cell_type": "code",
   "execution_count": 35,
   "metadata": {
    "collapsed": false
   },
   "outputs": [
    {
     "data": {
      "text/plain": [
       "datetime.datetime(2016, 10, 3, 2, 57, 1, 72651)"
      ]
     },
     "execution_count": 35,
     "metadata": {},
     "output_type": "execute_result"
    },
    {
     "name": "stderr",
     "output_type": "stream",
     "text": [
      "INFO:root:Feature vectors for positive reviews constructed. Exception Count: 849\n",
      "INFO:root:Feature vectors for negative reviews constructed. Exception Count: 986\n"
     ]
    },
    {
     "data": {
      "text/plain": [
       "datetime.datetime(2016, 10, 3, 2, 58, 59, 344864)"
      ]
     },
     "execution_count": 35,
     "metadata": {},
     "output_type": "execute_result"
    }
   ],
   "source": [
    "fvec_pos = numpy.zeros((len(os.listdir(dir_pos)),n_vocab),dtype=numpy.float)\n",
    "fvec_neg = numpy.zeros((len(os.listdir(dir_neg)),n_vocab),dtype=numpy.float)\n",
    "exc_ct_p = 0\n",
    "exc_ct_n = 0\n",
    "\n",
    "datetime.datetime.now()\n",
    "\n",
    "# BoW using tf-idf for positive reviews\n",
    "files=[os.path.join(dir_pos,f) for f in os.listdir(dir_pos)]\n",
    "# Get dictionary mapping word to doc_count\n",
    "doc_count = compute_doc_count(dir_pos,1)\n",
    "n_doc = len(files)\n",
    "for index,fname in enumerate(files):\n",
    "    with open(fname) as myfile:\n",
    "        data = myfile.read()\n",
    "        data_clean = BeautifulSoup(data)\n",
    "        data = data_clean.get_text()\n",
    "        tokens_truncated = [token for token in nltk.word_tokenize(data) if not re.match(r'\\W+',token)]\n",
    "        try:\n",
    "            tokens = [str(token).lower() for token in tokens_truncated]\n",
    "        except Exception as exc:\n",
    "            # logging.debug(\"%s: %s\",fname,exc)\n",
    "            exc_ct_p += 1\n",
    "            # Just ignore the exceptional token, read the rest\n",
    "            tokens = []\n",
    "            for token in tokens_truncated:\n",
    "                try:\n",
    "                    tokens.append(str(token))\n",
    "                except:\n",
    "                    continue\n",
    "        for token in tokens:\n",
    "            try:\n",
    "                fvec_pos[index][vocab[token]]+=(1/float(len(tokens)))\n",
    "            except:\n",
    "                pass\n",
    "        for token in set(tokens):\n",
    "            try:\n",
    "                idf = math.log(float(n_doc)/doc_count[token],2)\n",
    "                fvec_pos[index][vocab[token]] *= idf\n",
    "            except:\n",
    "                pass\n",
    "fvec_pos = sparse.csr_matrix(fvec_pos)\n",
    "logging.info(\"Feature vectors for positive reviews constructed. Exception Count: %d\",exc_ct_p)\n",
    "\n",
    "# BoW using tf-idf for negative reviews\n",
    "files=[os.path.join(dir_neg,f) for f in os.listdir(dir_neg)]\n",
    "n_doc = len(files)\n",
    "# Get dictionary mapping word to doc_count\n",
    "doc_count = compute_doc_count(dir_neg,-1)\n",
    "for index,fname in enumerate(files):\n",
    "    with open(fname) as myfile:\n",
    "        data = myfile.read()\n",
    "        data_clean = BeautifulSoup(data)\n",
    "        data = data_clean.get_text()\n",
    "        tokens_truncated = [token for token in nltk.word_tokenize(data) if not re.match(r'\\W+',token)]\n",
    "        try:\n",
    "            tokens = [str(token).lower() for token in tokens_truncated]\n",
    "        except Exception as exc:\n",
    "            # logging.debug(\"%s %s\",fname,exc)\n",
    "            exc_ct_n += 1\n",
    "            # Just ignore the exceptional token, read the rest\n",
    "            tokens = []\n",
    "            for token in tokens_truncated:\n",
    "                try:\n",
    "                    tokens.append(str(token))\n",
    "                except:\n",
    "                    continue\n",
    "        for token in tokens:\n",
    "            try:\n",
    "                fvec_neg[index][vocab[token]]+=(1/float(len(tokens)))\n",
    "            except:\n",
    "                pass\n",
    "        for token in set(tokens):\n",
    "            try:\n",
    "                idf = math.log(float(n_doc)/doc_count[token],2)\n",
    "                fneg_pos[index][vocab[token]] *= idf\n",
    "            except:\n",
    "                pass\n",
    "fvec_neg = sparse.csr_matrix(fvec_neg)\n",
    "logging.info(\"Feature vectors for negative reviews constructed. Exception Count: %d\",exc_ct_n)\n",
    "\n",
    "datetime.datetime.now()\n",
    "with open('pos_BoW_tfidf_pkl.bin','wb') as outfile:\n",
    "    pkl.dump(fvec_pos,outfile,pkl.HIGHEST_PROTOCOL)\n",
    "with open('neg_BoW_tfidf_pkl.bin','wb') as outfile:\n",
    "    pkl.dump(fvec_neg,outfile,pkl.HIGHEST_PROTOCOL)"
   ]
  }
 ],
 "metadata": {
  "kernelspec": {
   "display_name": "Python 2",
   "language": "python",
   "name": "python2"
  },
  "language_info": {
   "codemirror_mode": {
    "name": "ipython",
    "version": 2
   },
   "file_extension": ".py",
   "mimetype": "text/x-python",
   "name": "python",
   "nbconvert_exporter": "python",
   "pygments_lexer": "ipython2",
   "version": "2.7.6"
  }
 },
 "nbformat": 4,
 "nbformat_minor": 1
}
