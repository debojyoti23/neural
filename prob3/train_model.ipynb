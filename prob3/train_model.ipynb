{
 "cells": [
  {
   "cell_type": "code",
   "execution_count": 1,
   "metadata": {
    "collapsed": false
   },
   "outputs": [],
   "source": [
    "import cPickle as pkl\n",
    "import numpy\n",
    "import os"
   ]
  },
  {
   "cell_type": "markdown",
   "metadata": {},
   "source": [
    "## Prepare training file"
   ]
  },
  {
   "cell_type": "code",
   "execution_count": 64,
   "metadata": {
    "collapsed": false
   },
   "outputs": [],
   "source": [
    "with open('imdb_train.tr','w') as tr_file:\n",
    "    with open(\"pos_BoW_pkl.bin\",\"rb\") as myfile:\n",
    "        pos_bow = pkl.load(myfile)\n",
    "        n_pos = pos_bow.shape[0]\n",
    "        for doc_indx in range(n_pos):\n",
    "            word_indices = pos_bow[doc_indx,:].nonzero()[1]\n",
    "            vals = pos_bow[doc_indx,word_indices]\n",
    "            vals = [vals[0,i] for i in range(len(word_indices))]\n",
    "            temp = [\"%d:%f\"%(word_index+1,val) for word_index,val in zip(word_indices,vals)]\n",
    "            fvec_str = \" \".join(temp)\n",
    "            fvec_str = \"%s %s\\n\"%(\"+1\",fvec_str)\n",
    "            tr_file.write(fvec_str)\n",
    "    with open(\"neg_BoW_pkl.bin\",\"rb\") as myfile:\n",
    "        neg_bow = pkl.load(myfile)\n",
    "        n_neg = neg_bow.shape[0]\n",
    "        for doc_indx in range(n_neg):\n",
    "            word_indices = neg_bow[doc_indx,:].nonzero()[1]\n",
    "            vals = neg_bow[doc_indx,word_indices]\n",
    "            vals = [vals[0,i] for i in range(len(word_indices))]\n",
    "            temp = [\"%d:%f\"%(word_index+1,val) for word_index,val in zip(word_indices,vals)]\n",
    "            fvec_str = \" \".join(temp)\n",
    "            fvec_str = \"%s %s\\n\"%(\"-1\",fvec_str)\n",
    "            tr_file.write(fvec_str)"
   ]
  },
  {
   "cell_type": "markdown",
   "metadata": {},
   "source": [
    "## Train SVM classifier"
   ]
  },
  {
   "cell_type": "code",
   "execution_count": 34,
   "metadata": {
    "collapsed": false
   },
   "outputs": [],
   "source": [
    "train_in = os.path.abspath(\"imdb_train.tr\")\n",
    "cur_dir = os.getcwd()\n",
    "liblinear_dir = os.path.abspath(\"../liblinear-2.1/python/\")\n",
    "model_dest = os.path.join(cur_dir,\"imdb_review_sentiment.model\")\n",
    "os.chdir(liblinear_dir)\n",
    "# Train\n",
    "from liblinearutil import *\n",
    "try:\n",
    "    y,x = svm_read_problem(train_in)\n",
    "    model_svm = train(y,x,'c -4')\n",
    "#     p_label, p_acc, p_val = predict(y[200:1000], x[200:1000], model_svm)\n",
    "    save_model(model_dest,model_svm)\n",
    "except:\n",
    "    os.chdir(cur_dir)\n",
    "os.chdir(cur_dir)"
   ]
  }
 ],
 "metadata": {
  "kernelspec": {
   "display_name": "Python 2",
   "language": "python",
   "name": "python2"
  },
  "language_info": {
   "codemirror_mode": {
    "name": "ipython",
    "version": 2
   },
   "file_extension": ".py",
   "mimetype": "text/x-python",
   "name": "python",
   "nbconvert_exporter": "python",
   "pygments_lexer": "ipython2",
   "version": "2.7.6"
  }
 },
 "nbformat": 4,
 "nbformat_minor": 1
}
