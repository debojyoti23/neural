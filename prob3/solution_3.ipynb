{
 "cells": [
  {
   "cell_type": "markdown",
   "metadata": {},
   "source": [
    "## Import section"
   ]
  },
  {
   "cell_type": "code",
   "execution_count": 2,
   "metadata": {
    "collapsed": false
   },
   "outputs": [],
   "source": [
    "import os\n",
    "import numpy\n",
    "import datetime\n",
    "import re\n",
    "import math\n",
    "# Logger\n",
    "import logging\n",
    "logger = logging.getLogger()\n",
    "logger.setLevel(logging.DEBUG)\n",
    "# nltk\n",
    "import nltk\n",
    "from nltk.corpus import stopwords\n",
    "# Scipy\n",
    "from scipy import sparse\n",
    "# Pickle\n",
    "import cPickle as pkl\n",
    "# BeautifulSoup\n",
    "from bs4 import BeautifulSoup\n",
    "# Gensim\n",
    "import gensim\n",
    "# To print all outputs, not just the last one\n",
    "from IPython.core.interactiveshell import InteractiveShell\n",
    "InteractiveShell.ast_node_interactivity = \"all\""
   ]
  },
  {
   "cell_type": "code",
   "execution_count": 73,
   "metadata": {
    "collapsed": true
   },
   "outputs": [],
   "source": [
    "dir_vocab = \"/home/debojyoti/aclImdb/imdb.vocab\"\n",
    "dir_pos = \"/home/debojyoti/aclImdb/train/pos/\"\n",
    "dir_neg = \"/home/debojyoti/aclImdb/train/neg/\""
   ]
  },
  {
   "cell_type": "code",
   "execution_count": 74,
   "metadata": {
    "collapsed": false
   },
   "outputs": [],
   "source": [
    "vocab = set([])\n",
    "for word in open(dir_vocab):\n",
    "    vocab.add(str(word).split()[0])\n",
    "vocab = numpy.asarray(sorted(vocab))\n",
    "vocab = dict(zip(vocab,range(len(vocab))))\n",
    "with open(\"word2indx.bin\",\"wb\") as outfile:\n",
    "    pkl.dump(vocab,outfile,pkl.HIGHEST_PROTOCOL)\n",
    "n_vocab = len(vocab)"
   ]
  },
  {
   "cell_type": "markdown",
   "metadata": {},
   "source": [
    "## Computing BoW feature vector"
   ]
  },
  {
   "cell_type": "code",
   "execution_count": 98,
   "metadata": {
    "collapsed": false
   },
   "outputs": [
    {
     "name": "stderr",
     "output_type": "stream",
     "text": [
      "INFO:root:Feature vectors for positive reviews constructed.\n",
      "INFO:root:Feature vectors for negative reviews constructed.\n"
     ]
    }
   ],
   "source": [
    "fvec_pos = numpy.zeros((len(os.listdir(dir_pos)),n_vocab),dtype=numpy.int)\n",
    "fvec_neg = numpy.zeros((len(os.listdir(dir_neg)),n_vocab),dtype=numpy.int)\n",
    "logging.info(\"train pos size: %s\",str(fvec_pos.shape))\n",
    "logging.info(\"train neg size: %s\",str(fvec_pos.shape))\n",
    "# BoW for positive reviews\n",
    "files=[os.path.join(dir_pos,f) for f in os.listdir(dir_pos)]\n",
    "exc_ct_p = 0\n",
    "exc_ct_n = 0\n",
    "datetime.datetime.now()\n",
    "for index,fname in enumerate(files):\n",
    "    with open(fname) as myfile:\n",
    "        data = myfile.read()\n",
    "        data_clean = BeautifulSoup(data)\n",
    "        data = data_clean.get_text()\n",
    "        tokens_truncated = [token for token in nltk.word_tokenize(data) if not re.match(r'\\W+',token)]\n",
    "        try:\n",
    "            tokens = [str(token).lower() for token in tokens_truncated]\n",
    "        except Exception as exc:\n",
    "            # logging.debug(\"%s: %s\",fname,exc)\n",
    "            exc_ct_p += 1\n",
    "            # Just ignore the exceptional token, read the rest\n",
    "            tokens = []\n",
    "            for token in tokens_truncated:\n",
    "                try:\n",
    "                    tokens.append(str(token))\n",
    "                except:\n",
    "                    continue\n",
    "        for token in tokens:\n",
    "            try:\n",
    "                fvec_pos[index][vocab[token]]=1\n",
    "            except:\n",
    "                pass\n",
    "logging.info(\"Feature vectors for positive reviews constructed. Exception Count: %d\",exc_ct_p)\n",
    "# BoW for negative reviews\n",
    "files=[os.path.join(dir_neg,f) for f in os.listdir(dir_neg)]\n",
    "for index,fname in enumerate(files):\n",
    "    with open(fname) as myfile:\n",
    "        data = myfile.read()\n",
    "        data_clean = BeautifulSoup(data)\n",
    "        data = data_clean.get_text()\n",
    "        tokens_truncated = [token for token in nltk.word_tokenize(data) if not re.match(r'\\W+',token)]\n",
    "        try:\n",
    "            tokens = [str(token).lower() for token in tokens_truncated]\n",
    "        except Exception as exc:\n",
    "            # logging.debug(\"%s %s\",fname,exc)\n",
    "            exc_ct_n += 1\n",
    "            # Just ignore the exceptional token, read the rest\n",
    "            tokens = []\n",
    "            for token in tokens_truncated:\n",
    "                try:\n",
    "                    tokens.append(str(token))\n",
    "                except:\n",
    "                    continue\n",
    "        for token in tokens:\n",
    "            try:\n",
    "                fvec_neg[index][vocab[token]]=1\n",
    "            except:\n",
    "                pass\n",
    "logging.info(\"Feature vectors for negative reviews constructed. Exception Count: %d\",exc_ct_n)\n",
    "datetime.datetime.now()\n",
    "fvec_pos = sparse.csr_matrix(fvec_pos)\n",
    "fvec_neg = sparse.csr_matrix(fvec_neg)\n",
    "with open('pos_BoW_pkl.bin','wb') as outfile:\n",
    "    pkl.dump(fvec_pos,outfile,pkl.HIGHEST_PROTOCOL)\n",
    "with open('neg_BoW_pkl.bin','wb') as outfile:\n",
    "    pkl.dump(fvec_neg,outfile,pkl.HIGHEST_PROTOCOL)"
   ]
  },
  {
   "cell_type": "markdown",
   "metadata": {},
   "source": [
    "## Function to compute no of documents in which a token takes place"
   ]
  },
  {
   "cell_type": "code",
   "execution_count": 28,
   "metadata": {
    "collapsed": false
   },
   "outputs": [],
   "source": [
    "def compute_doc_count(dirname,indctr):\n",
    "    # this function finds the number of documents a word occurs in, for each word\n",
    "    # indctr=1 for positive -1 for negative\n",
    "    if indctr==1 and os.path.isfile('pos_doc_count.bin'):\n",
    "        with open('pos_doc_count.bin','rb') as myfile:\n",
    "            doc_count = pkl.load(myfile)\n",
    "            return doc_count\n",
    "    if indctr==-1 and os.path.isfile('neg_doc_count.bin'):\n",
    "        with open('neg_doc_count.bin','rb') as myfile:\n",
    "            doc_count = pkl.load(myfile)\n",
    "            return doc_count\n",
    "    vocab_list = numpy.asarray(vocab.keys())\n",
    "    doc_count = dict(zip(vocab_list,numpy.zeros(len(vocab_list),dtype=numpy.int)))\n",
    "    files=[os.path.join(dirname,f) for f in os.listdir(dirname)]\n",
    "    for fname in files:\n",
    "        with open(fname) as myfile:\n",
    "            data = myfile.read()\n",
    "            data_clean = BeautifulSoup(data)\n",
    "            data = data_clean.get_text()\n",
    "            tokens_truncated = [token for token in nltk.word_tokenize(data) if not re.match(r'\\W+',token)]\n",
    "            try:\n",
    "                tokens = [str(token).lower() for token in tokens_truncated]\n",
    "            except Exception as exc:\n",
    "                tokens = []\n",
    "                for token in tokens_truncated:\n",
    "                    try:\n",
    "                        tokens.append(str(token))\n",
    "                    except:\n",
    "                        continue\n",
    "            for token in set(tokens):\n",
    "                try:\n",
    "                    doc_count[token] += 1\n",
    "                except:\n",
    "                    pass\n",
    "    # save count_dict in a file\n",
    "    if indctr==1:\n",
    "        with open('pos_doc_count.bin','wb') as outfile:\n",
    "            pkl.dump(doc_count,outfile,pkl.HIGHEST_PROTOCOL)\n",
    "    elif indctr==-1:\n",
    "        with open('neg_doc_count.bin','wb') as outfile:\n",
    "            pkl.dump(doc_count,outfile,pkl.HIGHEST_PROTOCOL)\n",
    "    return doc_count\n",
    "\n",
    "# compute_doc_count()"
   ]
  },
  {
   "cell_type": "markdown",
   "metadata": {},
   "source": [
    "## Computing tf-idf feature vectors"
   ]
  },
  {
   "cell_type": "code",
   "execution_count": 35,
   "metadata": {
    "collapsed": false
   },
   "outputs": [
    {
     "data": {
      "text/plain": [
       "datetime.datetime(2016, 10, 3, 2, 57, 1, 72651)"
      ]
     },
     "execution_count": 35,
     "metadata": {},
     "output_type": "execute_result"
    },
    {
     "name": "stderr",
     "output_type": "stream",
     "text": [
      "INFO:root:Feature vectors for positive reviews constructed. Exception Count: 849\n",
      "INFO:root:Feature vectors for negative reviews constructed. Exception Count: 986\n"
     ]
    },
    {
     "data": {
      "text/plain": [
       "datetime.datetime(2016, 10, 3, 2, 58, 59, 344864)"
      ]
     },
     "execution_count": 35,
     "metadata": {},
     "output_type": "execute_result"
    }
   ],
   "source": [
    "fvec_pos = numpy.zeros((len(os.listdir(dir_pos)),n_vocab),dtype=numpy.float)\n",
    "fvec_neg = numpy.zeros((len(os.listdir(dir_neg)),n_vocab),dtype=numpy.float)\n",
    "exc_ct_p = 0\n",
    "exc_ct_n = 0\n",
    "\n",
    "datetime.datetime.now()\n",
    "\n",
    "# BoW using tf-idf for positive reviews\n",
    "files=[os.path.join(dir_pos,f) for f in os.listdir(dir_pos)]\n",
    "# Get dictionary mapping word to doc_count\n",
    "doc_count = compute_doc_count(dir_pos,1)\n",
    "n_doc = len(files)\n",
    "for index,fname in enumerate(files):\n",
    "    with open(fname) as myfile:\n",
    "        data = myfile.read()\n",
    "        data_clean = BeautifulSoup(data)\n",
    "        data = data_clean.get_text()\n",
    "        tokens_truncated = [token for token in nltk.word_tokenize(data) if not re.match(r'\\W+',token)]\n",
    "        try:\n",
    "            tokens = [str(token).lower() for token in tokens_truncated]\n",
    "        except Exception as exc:\n",
    "            # logging.debug(\"%s: %s\",fname,exc)\n",
    "            exc_ct_p += 1\n",
    "            # Just ignore the exceptional token, read the rest\n",
    "            tokens = []\n",
    "            for token in tokens_truncated:\n",
    "                try:\n",
    "                    tokens.append(str(token))\n",
    "                except:\n",
    "                    continue\n",
    "        for token in tokens:\n",
    "            try:\n",
    "                fvec_pos[index][vocab[token]]+=(1/float(len(tokens)))\n",
    "            except:\n",
    "                pass\n",
    "        for token in set(tokens):\n",
    "            try:\n",
    "                idf = math.log(float(n_doc)/doc_count[token],2)\n",
    "                fvec_pos[index][vocab[token]] *= idf\n",
    "            except:\n",
    "                pass\n",
    "fvec_pos = sparse.csr_matrix(fvec_pos)\n",
    "logging.info(\"Feature vectors for positive reviews constructed. Exception Count: %d\",exc_ct_p)\n",
    "\n",
    "# BoW using tf-idf for negative reviews\n",
    "files=[os.path.join(dir_neg,f) for f in os.listdir(dir_neg)]\n",
    "n_doc = len(files)\n",
    "# Get dictionary mapping word to doc_count\n",
    "doc_count = compute_doc_count(dir_neg,-1)\n",
    "for index,fname in enumerate(files):\n",
    "    with open(fname) as myfile:\n",
    "        data = myfile.read()\n",
    "        data_clean = BeautifulSoup(data)\n",
    "        data = data_clean.get_text()\n",
    "        tokens_truncated = [token for token in nltk.word_tokenize(data) if not re.match(r'\\W+',token)]\n",
    "        try:\n",
    "            tokens = [str(token).lower() for token in tokens_truncated]\n",
    "        except Exception as exc:\n",
    "            # logging.debug(\"%s %s\",fname,exc)\n",
    "            exc_ct_n += 1\n",
    "            # Just ignore the exceptional token, read the rest\n",
    "            tokens = []\n",
    "            for token in tokens_truncated:\n",
    "                try:\n",
    "                    tokens.append(str(token))\n",
    "                except:\n",
    "                    continue\n",
    "        for token in tokens:\n",
    "            try:\n",
    "                fvec_neg[index][vocab[token]]+=(1/float(len(tokens)))\n",
    "            except:\n",
    "                pass\n",
    "        for token in set(tokens):\n",
    "            try:\n",
    "                idf = math.log(float(n_doc)/doc_count[token],2)\n",
    "                fneg_pos[index][vocab[token]] *= idf\n",
    "            except:\n",
    "                pass\n",
    "fvec_neg = sparse.csr_matrix(fvec_neg)\n",
    "logging.info(\"Feature vectors for negative reviews constructed. Exception Count: %d\",exc_ct_n)\n",
    "\n",
    "datetime.datetime.now()\n",
    "with open('pos_BoW_tfidf_pkl.bin','wb') as outfile:\n",
    "    pkl.dump(fvec_pos,outfile,pkl.HIGHEST_PROTOCOL)\n",
    "with open('neg_BoW_tfidf_pkl.bin','wb') as outfile:\n",
    "    pkl.dump(fvec_neg,outfile,pkl.HIGHEST_PROTOCOL)"
   ]
  },
  {
   "cell_type": "markdown",
   "metadata": {},
   "source": [
    "## Reading sentences for word2vec"
   ]
  },
  {
   "cell_type": "code",
   "execution_count": 68,
   "metadata": {
    "collapsed": true
   },
   "outputs": [],
   "source": [
    "class ImdbReview(object):\n",
    "    def __init__(self,dirname):\n",
    "        self.dirname_pos = os.path.join(dirname,\"pos\")\n",
    "        self.dirname_neg = os.path.join(dirname,\"neg\")\n",
    "        self.files = [os.path.join(self.dirname_pos,x) for x in os.listdir(self.dirname_pos)] + \\\n",
    "            [os.path.join(self.dirname_neg,x) for x in os.listdir(self.dirname_neg)]\n",
    "        self.stops = set(stopwords.words(\"english\"))        \n",
    "    def __iter__(self):        \n",
    "        for fname in self.files:\n",
    "            with open(fname) as myfile:\n",
    "                data = myfile.read()\n",
    "                data_clean = BeautifulSoup(data,\"lxml\")\n",
    "                data = data_clean.get_text()\n",
    "                sentences = nltk.tokenize.sent_tokenize(data)\n",
    "                for sentence in sentences:\n",
    "                    try:\n",
    "                        tmp = [str(elem).lower() for elem in sentence.split() if not re.match(r'[^a-zA-Z0-9_\\\"\\']+',elem)]\n",
    "                    except:\n",
    "                        tmp = []\n",
    "                        for token in sentence.split():\n",
    "                            try:\n",
    "                                tmp.append(str(token))\n",
    "                            except:\n",
    "                                continue\n",
    "                    yield tmp"
   ]
  },
  {
   "cell_type": "code",
   "execution_count": 69,
   "metadata": {
    "collapsed": false
   },
   "outputs": [
    {
     "name": "stderr",
     "output_type": "stream",
     "text": [
      "/usr/local/lib/python2.7/dist-packages/bs4/__init__.py:181: UserWarning: No parser was explicitly specified, so I'm using the best available HTML parser for this system (\"lxml\"). This usually isn't a problem, but if you run this code on another system, or in a different virtual environment, it may use a different parser and behave differently.\n",
      "\n",
      "The code that caused this warning is on line 783 of the file /usr/lib/python2.7/threading.py. To get rid of this warning, change code that looks like this:\n",
      "\n",
      " BeautifulSoup([your markup])\n",
      "\n",
      "to this:\n",
      "\n",
      " BeautifulSoup([your markup], \"lxml\")\n",
      "\n",
      "  markup_type=markup_type))\n"
     ]
    }
   ],
   "source": [
    "datetime.datetime.now()\n",
    "import gensim\n",
    "sentences = ImdbReview('/home/debojyoti/aclImdb/train/')\n",
    "bigram_transformer = gensim.models.Phrases(sentences)\n",
    "# model = gensim.models.Word2Vec(sentences, min_count=10, size=300, window=5, workers=4)\n",
    "model = gensim.models.Word2Vec(bigram_transformer[sentences], min_count=10, size=300, window=5, workers=4)\n",
    "model.save('word2vec.bin')\n",
    "datetime.datetime.now()"
   ]
  },
  {
   "cell_type": "markdown",
   "metadata": {},
   "source": [
    "## Bag of Vector"
   ]
  },
  {
   "cell_type": "code",
   "execution_count": 5,
   "metadata": {
    "collapsed": false
   },
   "outputs": [],
   "source": [
    "with open(\"pos_BoW_pkl.bin\",\"rb\") as myfile:\n",
    "    pos_bow = pkl.load(myfile)\n",
    "with open(\"neg_BoW_pkl.bin\",\"rb\") as myfile:\n",
    "    neg_bow = pkl.load(myfile)\n",
    "with open(\"word2vec.bin\",\"rb\") as myfile:\n",
    "    word2vec_model = pkl.load(myfile)\n",
    "with open(\"pos_BoW_tfidf_pkl.bin\",\"rb\") as myfile:\n",
    "    pos_bow_tfidf = pkl.load(myfile)\n",
    "with open(\"neg_BoW_tfidf_pkl.bin\",\"rb\") as myfile:\n",
    "    neg_bow_tfidf = pkl.load(myfile)\n",
    "with open(\"word2indx.bin\",\"rb\") as myfile:\n",
    "    word2indx = pkl.load(myfile)"
   ]
  },
  {
   "cell_type": "code",
   "execution_count": null,
   "metadata": {
    "collapsed": false
   },
   "outputs": [
    {
     "data": {
      "text/plain": [
       "datetime.datetime(2016, 10, 4, 12, 41, 8, 587226)"
      ]
     },
     "execution_count": 44,
     "metadata": {},
     "output_type": "execute_result"
    },
    {
     "name": "stderr",
     "output_type": "stream",
     "text": [
      "INFO:root:starting BoV creation for pos examples...\n"
     ]
    },
    {
     "name": "stdout",
     "output_type": "stream",
     "text": [
      "0\n",
      "100\n",
      "200\n",
      "300\n",
      "400\n",
      "500\n",
      "600\n",
      "700\n",
      "800\n",
      "900\n",
      "1000\n",
      "1100\n",
      "1200\n",
      "1300\n",
      "1400\n",
      "1500\n"
     ]
    }
   ],
   "source": [
    "datetime.datetime.now()\n",
    "vec_dim = word2vec_model.layer1_size\n",
    "n_pos,n_neg = pos_bow.shape[0],neg_bow.shape[0]\n",
    "n_vocab = pos_bow.shape[1]\n",
    "indx2word = numpy.array([\"\"]*n_vocab)\n",
    "for word in word2indx.keys():\n",
    "    indx2word[word2indx[word]] = word\n",
    "logging.info(\"starting BoV creation for pos examples...\")\n",
    "# Creating BoV, weighted BoV matrix for pos\n",
    "indptr = numpy.array([])\n",
    "indices = numpy.array([])\n",
    "data = numpy.array([])\n",
    "data_tfidf = numpy.array([])\n",
    "for doc_indx in range(n_pos):\n",
    "    if doc_indx%100 == 0:\n",
    "        print doc_indx\n",
    "    word_indices = pos_bow[doc_indx,:].nonzero()[1]\n",
    "    word_tfidf = pos_bow_tfidf[doc_indx,word_indices]\n",
    "    indptr = numpy.append(indptr, len(data))\n",
    "    for word_indx in word_indices:\n",
    "        weight = pos_bow_tfidf[0,word_indx]\n",
    "        data = numpy.concatenate((data,word2vec_model[indx2word[word_indx]]))\n",
    "        data_tfidf = numpy.concatenate((data_tfidf,weight * word2vec_model[indx2word[word_indx]]))\n",
    "        start = word_indx*vec_dim\n",
    "        indices = numpy.concatenate((indices,numpy.asarray(range(start,start+vec_dim))))\n",
    "indptr = numpy.append(indptr, len(data))\n",
    "bov = sparse.csr_matrix((data,indices,indptr),shape=(n_pos,n_vocab*vec_dim))\n",
    "bov_tfidf = sparse.csr_matrix((data_tfidf,indices,indptr),shape=(n_pos,n_vocab*vec_dim))\n",
    "with open('pos_bov.bin','wb') as outfile:\n",
    "    pkl.dump(bov,outfile,pkl.HIGHEST_PROTOCOL)\n",
    "with open('pos_bov_tfidf.bin','wb') as outfile:\n",
    "    pkl.dump(bov_tfidf,outfile,pkl.HIGHEST_PROTOCOL)\n",
    "logging.info(\"BoV created for pos examples.\")\n",
    "logging.info(\"starting BoV creation for pos examples...\")\n",
    "datetime.datetime.now()\n",
    "# Creating BoV, weighted BoV matrix for neg\n",
    "indptr = numpy.array([])\n",
    "indices = numpy.array([])\n",
    "data = numpy.array([])\n",
    "data_tfidf = numpy.array([])\n",
    "for doc_indx in range(n_neg):\n",
    "    if doc_indx%100 == 0:\n",
    "        print doc_indx\n",
    "    word_indices = neg_bow[doc_indx,:].nonzero()[1]\n",
    "    word_tfidf = neg_bow_tfidf[doc_indx,word_indices]\n",
    "    indptr = numpy.append(indptr, len(data))\n",
    "    for word_indx in word_indices:\n",
    "        weight = neg_bow_tfidf[0,word_indx]\n",
    "        data = numpy.concatenate((data,word2vec_model[indx2word[word_indx]]))\n",
    "        data_tfidf = numpy.concatenate((data_tfidf,weight * word2vec_model[indx2word[word_indx]]))\n",
    "        start = word_indx*vec_dim\n",
    "        indices = numpy.concatenate((indices,numpy.asarray(range(start,start+vec_dim))))\n",
    "indptr = numpy.append(indptr, len(data))\n",
    "bov = sparse.csr_matrix((data,indices,indptr),shape=(n_neg,n_vocab*vec_dim))\n",
    "bov_tfidf = sparse.csr_matrix((data_tfidf,indices,indptr),shape=(n_neg,n_vocab*vec_dim))\n",
    "with open('neg_bov.bin','wb') as outfile:\n",
    "    pkl.dump(bov,outfile,pkl.HIGHEST_PROTOCOL)\n",
    "with open('neg_bov_tfidf.bin','wb') as outfile:\n",
    "    pkl.dump(bov_tfidf,outfile,pkl.HIGHEST_PROTOCOL)\n",
    "logging.info(\"BoV created for neg examples.\")\n",
    "datetime.datetime.now()"
   ]
  },
  {
   "cell_type": "markdown",
   "metadata": {},
   "source": [
    "## Liblinear: prepare dataset"
   ]
  },
  {
   "cell_type": "code",
   "execution_count": null,
   "metadata": {
    "collapsed": true
   },
   "outputs": [],
   "source": [
    "with open('imdb_train.tr','w') as tr_file:\n",
    "    with open(\"pos_BoW_pkl.bin\",\"rb\") as myfile:\n",
    "        pos_bow = pkl.load(myfile)\n",
    "    dict = {1:23,2:30}\n",
    "    tr_f\n",
    "    "
   ]
  }
 ],
 "metadata": {
  "kernelspec": {
   "display_name": "Python 2",
   "language": "python",
   "name": "python2"
  },
  "language_info": {
   "codemirror_mode": {
    "name": "ipython",
    "version": 2
   },
   "file_extension": ".py",
   "mimetype": "text/x-python",
   "name": "python",
   "nbconvert_exporter": "python",
   "pygments_lexer": "ipython2",
   "version": "2.7.6"
  }
 },
 "nbformat": 4,
 "nbformat_minor": 1
}
