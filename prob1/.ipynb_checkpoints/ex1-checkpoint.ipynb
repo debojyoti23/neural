{
 "cells": [
  {
   "cell_type": "markdown",
   "metadata": {},
   "source": [
    "# Parsing data"
   ]
  },
  {
   "cell_type": "code",
   "execution_count": 79,
   "metadata": {
    "collapsed": true
   },
   "outputs": [],
   "source": [
    "import csv\n",
    "import re"
   ]
  },
  {
   "cell_type": "code",
   "execution_count": 181,
   "metadata": {
    "collapsed": false
   },
   "outputs": [
    {
     "name": "stdout",
     "output_type": "stream",
     "text": [
      "2242 2242\n"
     ]
    }
   ],
   "source": [
    "infile = 'ca01'\n",
    "with open(infile,'rb') as f:\n",
    "#     dialect=csv.Sniffer().sniff(f.read(1024),delimiters=\" ,;\")\n",
    "    words = []\n",
    "    tags = []\n",
    "    reader=csv.reader(f,delimiter = \"\\n\")\n",
    "    for row in reader:\n",
    "        if len(row)>0:\n",
    "            words_tagged = row[0].split()\n",
    "            words.extend([re.split(r'/',elem)[0] for elem in words_tagged])\n",
    "            tags.extend([re.split(r'/',elem)[1] for elem in words_tagged])\n",
    "    print len(words),len(tags)\n",
    "    dict = sorted(set(words))"
   ]
  },
  {
   "cell_type": "markdown",
   "metadata": {},
   "source": [
    "# Preprocessing text"
   ]
  },
  {
   "cell_type": "code",
   "execution_count": 232,
   "metadata": {
    "collapsed": false
   },
   "outputs": [
    {
     "name": "stdout",
     "output_type": "stream",
     "text": [
      "say\n",
      "The Fulton County Grand Jury say Friday an investigation of Atlanta's recent primary election produce `` no evidence '' that any irregularity take place . The jury further say in term-end presentment that the City Executive Committee , which had over-all charge of the election , `` deserve the praise and thanks of the City of Atlanta '' for the manner in which the election was conduct . The September-October term jury had been charge by Fulton Superior Court Judge Durwood Pye to investigate report of possible `` irregularity '' in the hard-fought primary which was win by Mayor-nominate Ivan Allen Jr. . `` Only a relative handful of such report was receive '' , the jury say , `` considering the widespread interest in the election , the number of voter and the size of this city '' . The jury say it did find that many of Georgia's registration and election law `` are outmoded or inadequate and often ambiguous '' . It recommend that Fulton legislator act `` to have these law study and revise to the end of modernize and improve them '' . The grand jury comment on a number of other topic , among them the Atlanta and Fulton County purchase department which it say `` are well operate and follow generally accept practice which inure to the best interest of both government '' . Merger propose However , the jury say it believe `` these two office should be combine to achieve greater efficiency and reduce the cost of administration '' . The City Purchasing Department , the jury say , `` is lack in experience clerical personnel as a result of city personnel policy '' . It urge that the city `` take step to remedy '' this problem . Implementation of Georgia's automobile title law was also recommend by the outgoing jury . It urge that the next Legislature `` provide enable fund and re-set the effective date so that an orderly implementation of the law may be effect '' . The grand jury take a swipe at the State Welfare Department's handling of federal fund grant for child welfare service in foster home . `` This is one of the major item in the Fulton County general assistance program '' , the jury say , but the State Welfare Department `` has see fit to distribute these fund through the welfare department of all the county in the state with the exception of Fulton County , which receive none of this money . The juror say they realize `` a proportionate distribution of these fund might disable this program in our less populous county '' . Nevertheless , `` we feel that in the future Fulton County should receive some portion of these available fund '' , the juror say . `` Failure to do this will continue to place a disproportionate burden '' on Fulton taxpayer . The jury also comment on the Fulton ordinary's court which has been under fire for its practice in the appointment of appraiser , guardian and administrator and the awarding of fee and compensation . Wards protect The jury say it find the court `` has incorporate into its operate procedure the recommendation '' of two previous grand jury , the Atlanta Bar Association and an interim citizen committee . `` These action should serve to protect in fact and in effect the court's ward from undue cost and its appoint and elect servant from unmeritorious criticism '' , the jury say . Regarding Atlanta's new multi-million-dollar airport , the jury recommend `` that when the new management take charge Jan. 1 the airport be operate in a manner that will eliminate political influence '' . The jury did not elaborate , but it add that `` there should be periodic surveillance of the price practice of the concessionaire for the purpose of keep the price reasonable '' . Ask jail deputy On other matter , the jury recommend that : ( 1 ) Four additional deputy be employ at the Fulton County Jail and `` a doctor , medical intern or extern be employ for night and weekend duty at the jail '' . ( 2 ) Fulton legislator `` work with city official to pass enable legislation that will permit the establishment of a fair and equitable '' pension plan for city employes . The jury praise the administration and operation of the Atlanta Police Department , the Fulton Tax Commissioner's Office , the Bellwood and Alpharetta prison farm , Grady Hospital and the Fulton Health Department . Mayor William B. Hartsfield file suit for divorce from his wife , Pearl Williams Hartsfield , in Fulton Superior Court Friday . His petition charge mental cruelty . The couple was marry Aug. 2 , 1913 . They have a son , William Berry Jr. , and a daughter , Mrs. J. M. Cheshire of Griffin . Attorneys for the mayor say that an amicable property settlement has been agree upon . The petition list the mayor's occupation as `` attorney '' and his age as 71 . It list his wife's age as 74 and place of birth as Opelika , Ala. . The petition say that the couple has not live together as man and wife for more than a year . The Hartsfield home is at 637 E. Pelham Rd. Aj . Henry L. Bowden was list on the petition as the mayor's attorney . Hartsfield has been mayor of Atlanta , with exception of one brief interlude , since 1937 . His political career go back to his election to city council in 1923 . The mayor's present term of office expire Jan. 1 . He will be succeed by Ivan Allen Jr. , who become a candidate in the Sept. 13 primary after Mayor Hartsfield announce that he would not run for reelection . Georgia Republicans are get strong encouragement to enter a candidate in the 1962 governor's race , a top official say Wednesday . Robert Snodgrass , state GOP chairman , say a meeting hold Tuesday night in Blue Ridge bring enthusiastic response from the audience . State Party Chairman James W. Dorsey add that enthusiasm was pick up for a state rally to be hold Sept. 8 in Savannah at which newly elect Texas Sen. John Tower will be the feature speaker . In the Blue Ridge meeting , the audience was warn that enter a candidate for governor would force it to take petition out into vote precinct to obtain the signature of register voter . Despite the warn , there was a unanimous vote to enter a candidate , according to Republicans who attend . When the crowd was ask whether it want to wait one more term to make the race , it vote no -- and there were no dissent . The largest hurdle the Republicans would have to face is a state law which say that before make a first race , one of two alternative course must be take : 1 Five per cent of the voter in each county must sign petition request that the Republicans be allow to place name of candidate on the general election ballot , or 2 The Republicans must hold a primary under the county unit system -- a system which the party oppose in its platform . Sam Caldwell , State Highway Department public relation director , resign Tuesday to work for Lt. Gov. Garland Byrd's campaign . Caldwell's resignation had been expect for some time . He will be succeed by Rob Ledford of Gainesville , who has been an assistant more than three year . When the gubernatorial campaign start , Caldwell is expect to become a campaign coordinator for Byrd . The Georgia Legislature will wind up its 1961 session Monday and head for home -- where some of the highway bond money it approve will follow shortly . Before adjournment Monday afternoon , the Senate is expect to approve a study of the number of legislator allot to rural and urban area to determine what adjustment should be make . Gov. Vandiver is expect to make the traditional visit to both chamber as they work toward adjournment . Vandiver likely will mention the $100 million highway bond issue approve earlier in the session as his first priority item . Construction bond Meanwhile , it was learn the State Highway Department is very near being ready to issue the first $30 million worth of highway reconstruction bond . The bond issue will go to the state court for a friendly test suit to test the validity of the act , and then the sale will begin and contract let for repair work on some of Georgia's most heavily travel highway . A Highway Department source say there also is a plan there to issue some $3 million to $4 million worth of Rural Roads Authority bond for rural road construction work . A revolve fund The department apparently intend to make the Rural Roads Authority a revolve fund under which new bond would be issue every time a portion of the old one are pay off by tax authority . Vandiver open his race for governor in 1958 with a battle in the Legislature against the issuance of $50 million worth of additional rural road bond propose by then Gov. Marvin Griffin . The Highway Department source tell The Constitution , however , that Vandiver has not been consult yet about the plan to issue the new rural road bond . Schley County Rep. B. D. Pelham will offer a resolution Monday in the House to rescind the body's action of Friday in vote itself a $10 per day increase in expense allowance . Pelham say Sunday night there was research being do on whether the `` quickie '' vote on the increase can be repeal outright or whether notice would have to first be give that reconsideration of the action would be seek . While emphasize that technical detail were not fully work out , Pelham say his resolution would seek to set aside the privilege resolution which the House vote through 87-31 . A similar resolution pass in the Senate by a vote of 29-5 . As of Sunday night , there was no word of a resolution being offer there to rescind the action . Pelham point out that Georgia voter last November reject a constitutional amendment to allow legislator to vote on pay raise for future Legislature session . A veteran Jackson County legislator will ask the Georgia House Monday to back federal aid to education , something it has consistently oppose in the past . Rep. Mac Barber of Commerce is ask the House in a privilege resolution to `` endorse increase federal support for public education , provide that such fund be receive and expend '' as state fund . Barber , who is in his 13th year as a legislator , say there `` are some member of our congressional delegation in Washington who would like to see it ( the resolution ) pass '' . But he add that none of Georgia's congressman specifically ask him to offer the resolution . The resolution , which Barber toss into the House hopper Friday , will be formally read Monday . It say that `` in the event Congress does provide this increase in federal fund '' , the State Board of Education should be direct to `` give priority '' to teacher pay raise . Colquitt -- After a long , hot controversy , Miller County has a new school superintendent , elect , as a policeman put it , in the `` coolest election I ever saw in this county '' . The new school superintendent is Harry Davis , a veteran agriculture teacher , who defeat Felix Bush , a school principal and chairman of the Miller County Democratic Executive Committee . Davis receive 1,119 vote in Saturday's election , and Bush get 402 . Ordinary Carey Williams , arm with a pistol , stand by at the poll to insure order . `` This was the coolest , calmest election I ever saw '' , Colquitt Policeman Tom Williams say . `` Being at the poll was just like being at church . I didn't smell a drop of liquor , and we didn't have a bit of trouble '' . The campaign lead to the election was not so quiet , however . It was mark by controversy , anonymous midnight phone call and veil threat of violence . The former county school superintendent , George P. Callan , shoot himself to death March 18 , four day after he resign his post in a dispute with the county school board . During the election campaign , both candidate , Davis and Bush , reportedly receive anonymous telephone call . Ordinary Williams say he , too , was subject to anonymous call soon after he schedule the election . Many local citizen fear that there would be irregularity at the poll , and Williams get himself a permit to carry a gun and promise an orderly election . Sheriff Felix Tabb say the ordinary apparently make good his promise . `` Everything go real smooth '' , the sheriff say . `` There wasn't a bit of trouble '' .\n"
     ]
    }
   ],
   "source": [
    "import os\n",
    "import nltk\n",
    "import re\n",
    "import numpy\n",
    "from nltk.tokenize import sent_tokenize\n",
    "# from nltk.corpus import stopwords\n",
    "# from nltk.stem.porter import *\n",
    "# from nltk.stem.snowball import SnowballStemmer\n",
    "from nltk.stem import WordNetLemmatizer\n",
    "\n",
    "data_path = \"/home/debojyoti/brown/\"\n",
    "files=[os.path.join(data_path,f) for f in os.listdir(data_path) if re.match(r'c.+',f)!=None]\n",
    "vocab = set([])\n",
    "# stemmer = PorterStemmer()\n",
    "# stemmer = SnowballStemmer('english')\n",
    "wordnet_lemmatizer = WordNetLemmatizer()\n",
    "print wordnet_lemmatizer.lemmatize('said',pos='v')\n",
    "files=[\"ca01\"]\n",
    "for infile in files:\n",
    "    with open(infile) as myfile:\n",
    "        data_orig=myfile.read()\n",
    "        data = re.sub(r\"(\\S+)/(\\S+)\",r\"\\1\",data_orig,flags=re.DOTALL)\n",
    "        labels = re.sub(r\"(\\S+)/(\\S+)\",r\"\\2\",data_orig,flags=re.DOTALL)\n",
    "        # whitespace removal and Stemming\n",
    "#         data = \" \".join(data.split())\n",
    "#         data = \" \".join([stemmer.stem(elem) for elem in data.split()])\n",
    "        lst=[]\n",
    "        for elem,label in zip(data.split(),labels.split()):\n",
    "            if re.match(r'vb.*',label)!=None:\n",
    "                lst.append(wordnet_lemmatizer.lemmatize(elem,pos='v'))\n",
    "            elif re.match(r'nn.*',label)!=None:\n",
    "                lst.append(wordnet_lemmatizer.lemmatize(elem,pos='n'))\n",
    "            else:\n",
    "                lst.append(elem)\n",
    "        data = \" \".join(lst)\n",
    "        print data\n",
    "        # Replace number with pseudowords\n",
    "        data = re.sub(r\"\\d+(.\\d+)?\",\"NUM\",data)\n",
    "        # Tokenize\n",
    "        tokens = nltk.word_tokenize(data)\n",
    "        # Build vocabulary\n",
    "        vocab.update(set(tokens))\n",
    "vocabulary = numpy.asarray(sorted(vocab))\n",
    "indices = numpy.arange(vocabulary.size)\n",
    "word2indx = {}\n",
    "for key,val in zip(vocabulary,indices):\n",
    "    word2indx[key]=val\n",
    "sentences = sent_tokenize(data)"
   ]
  },
  {
   "cell_type": "markdown",
   "metadata": {},
   "source": [
    "# Creating Softmax Model"
   ]
  },
  {
   "cell_type": "code",
   "execution_count": 3,
   "metadata": {
    "collapsed": false
   },
   "outputs": [],
   "source": [
    "import theano,numpy\n",
    "import theano.tensor as T"
   ]
  },
  {
   "cell_type": "code",
   "execution_count": 32,
   "metadata": {
    "collapsed": false
   },
   "outputs": [],
   "source": [
    "n_in = 10\n",
    "n_out = 5\n",
    "n_samples = 12\n",
    "# Initialize weight matrix\n",
    "W = theano.shared(\n",
    "    value = numpy.ones(\n",
    "        (n_in,n_out),\n",
    "        dtype = theano.config.floatX\n",
    "    ),\n",
    "    name = 'W',\n",
    "    borrow = True\n",
    ")\n",
    "# print W.eval()\n",
    "# Initialize bias\n",
    "b = theano.shared(\n",
    "    value = numpy.ones(\n",
    "        (n_out,),\n",
    "        dtype = theano.config.floatX\n",
    "    ),\n",
    "    name = 'b',\n",
    "    borrow = True\n",
    ")\n",
    "X=numpy.random.rand(n_samples,n_in)\n",
    "p_y_given_x = T.nnet.softmax(T.dot(X,W) + b)\n",
    "# p_y_given_x.eval()\n",
    "y_pred = T.argmax(p_y_given_x, axis=1)"
   ]
  },
  {
   "cell_type": "markdown",
   "metadata": {},
   "source": [
    "## Loss function: Negative Log likelihood"
   ]
  },
  {
   "cell_type": "code",
   "execution_count": 40,
   "metadata": {
    "collapsed": false
   },
   "outputs": [
    {
     "data": {
      "text/plain": [
       "1.6094379124340998"
      ]
     },
     "execution_count": 40,
     "metadata": {},
     "output_type": "execute_result"
    }
   ],
   "source": [
    "y=numpy.random.randint(5,size=n_samples)\n",
    "-T.mean(T.log(p_y_given_x)[T.arange(y.size),y]).eval()"
   ]
  },
  {
   "cell_type": "markdown",
   "metadata": {},
   "source": [
    "# Logistic Regression"
   ]
  },
  {
   "cell_type": "code",
   "execution_count": 62,
   "metadata": {
    "collapsed": true
   },
   "outputs": [],
   "source": [
    "class LogisticRegression(object):\n",
    "    def __init__(self, inpt, n_in, n_out):\n",
    "        self.W = theano.shared(\n",
    "            value = numpy.zeros(\n",
    "                (n_in,n_out),\n",
    "                dtype = theano.config.floatX\n",
    "            ),\n",
    "            name = 'W',\n",
    "            borrow = True\n",
    "        )\n",
    "        self.b = theano.shared(\n",
    "            value = numpy.zeros(\n",
    "                (n_out,),\n",
    "                dtype = theano.config.floatX\n",
    "            ),\n",
    "            name = 'b',\n",
    "            borrow = True\n",
    "        )\n",
    "        self.p_y_given_x = T.nnet.softmax(T.dot(inpt,self.W) + self.b)\n",
    "        self.y_pred = T.argmax(p_y_given_x, axis=1)\n",
    "        self.params = [self.W,self.b]\n",
    "        self.inpt = inpt\n",
    "    \n",
    "    def negative_log_likelihood(self,y):\n",
    "        return -T.mean(T.log(self.p_y_given_x)[T.arange(y.size),y])"
   ]
  },
  {
   "cell_type": "code",
   "execution_count": 63,
   "metadata": {
    "collapsed": true
   },
   "outputs": [],
   "source": [
    "# Generate symbolic variables for input and labels\n",
    "x = T.matrix('x')\n",
    "y = T.ivector('y')\n",
    "classifier = LogisticRegression(inpt=x, n_in=20*20, n_out=10)"
   ]
  },
  {
   "cell_type": "code",
   "execution_count": 64,
   "metadata": {
    "collapsed": false
   },
   "outputs": [],
   "source": [
    "# handle for cost\n",
    "cost = classifier.negative_log_likelihood(y)"
   ]
  },
  {
   "cell_type": "code",
   "execution_count": 66,
   "metadata": {
    "collapsed": false
   },
   "outputs": [],
   "source": [
    "# Gradients w.r.t W and b\n",
    "g_W=T.grad(cost=cost,wrt=classifier.W)\n",
    "g_b=T.grad(cost=cost,wrt=classifier.b)"
   ]
  },
  {
   "cell_type": "code",
   "execution_count": 69,
   "metadata": {
    "collapsed": false
   },
   "outputs": [],
   "source": [
    "# Update Eqn\n",
    "learning_rate=T.dscalar('learning_rate')\n",
    "updates = [(classifier.W,classifier.W-learning_rate*g_W),\n",
    "           (classifier.b,classifier.b-learning_rate*g_b)]"
   ]
  },
  {
   "cell_type": "code",
   "execution_count": 4,
   "metadata": {
    "collapsed": false
   },
   "outputs": [],
   "source": [
    "# Training Model\n",
    "# index=T.iscalar('index')\n",
    "# train_set_x=T.matrix('train_set')\n",
    "# train_set_y=T.dvector('labels')\n",
    "# batch_size=T.iscalar('batch_size')\n",
    "# train_model = theano.function(\n",
    "#     inputs=[index],\n",
    "#     outputs=cost,\n",
    "#     updates=updates,\n",
    "#     givens={\n",
    "#         x: train_set_x[index * batch_size: (index + 1) * batch_size],\n",
    "#         y: train_set_y[index * batch_size: (index + 1) * batch_size]\n",
    "#     }\n",
    "# )"
   ]
  },
  {
   "cell_type": "code",
   "execution_count": null,
   "metadata": {
    "collapsed": true
   },
   "outputs": [],
   "source": []
  }
 ],
 "metadata": {
  "kernelspec": {
   "display_name": "Python 2",
   "language": "python",
   "name": "python2"
  },
  "language_info": {
   "codemirror_mode": {
    "name": "ipython",
    "version": 2
   },
   "file_extension": ".py",
   "mimetype": "text/x-python",
   "name": "python",
   "nbconvert_exporter": "python",
   "pygments_lexer": "ipython2",
   "version": "2.7.6"
  }
 },
 "nbformat": 4,
 "nbformat_minor": 1
}
