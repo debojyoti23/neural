{
 "cells": [
  {
   "cell_type": "code",
   "execution_count": 72,
   "metadata": {
    "collapsed": true
   },
   "outputs": [],
   "source": [
    "import os\n",
    "import re\n",
    "import numpy\n",
    "import datetime\n",
    "import nltk\n",
    "# To print all outputs, not just the last one\n",
    "from IPython.core.interactiveshell import InteractiveShell\n",
    "InteractiveShell.ast_node_interactivity = \"all\""
   ]
  },
  {
   "cell_type": "markdown",
   "metadata": {},
   "source": [
    "## Most frequent tagging , NLTK tagging"
   ]
  },
  {
   "cell_type": "code",
   "execution_count": 82,
   "metadata": {
    "collapsed": false
   },
   "outputs": [],
   "source": [
    "class BrownCorpus(object):\n",
    "    def __init__(self,dirname):\n",
    "        self.dirname = dirname\n",
    "        self.pos_ct = {}\n",
    "        self.final_pos = {}\n",
    "        self.final_ct = {}\n",
    "        total = len(os.listdir(self.dirname))\n",
    "        self.train_size = int(total*0.8)\n",
    "        self.test_size = total-self.train_size\n",
    "    def compute_pos_ct(self):\n",
    "        for indx,fname in enumerate(os.listdir(self.dirname)):\n",
    "            # Run on training set\n",
    "            if indx>=self.train_size:\n",
    "                break\n",
    "            if re.match(r'c.+',fname)==None:\n",
    "                continue\n",
    "            fname = os.path.join(self.dirname,fname)\n",
    "            if not os.path.isfile(fname):\n",
    "                continue\n",
    "            for line in open(fname):\n",
    "                token_tags = [t.split('/') for t in line.split() if len(t.split('/'))==2]\n",
    "                for token,tag in token_tags:\n",
    "                    token = str(token).lower()\n",
    "                    try:\n",
    "                        self.pos_ct[(token,tag)] +=1\n",
    "                    except:\n",
    "                        self.pos_ct[(token,tag)] = 1\n",
    "    def build_pos_oracle(self):\n",
    "        for token_tag in self.pos_ct:\n",
    "            ct = self.pos_ct[token_tag]\n",
    "            token = token_tag[0]\n",
    "            tag = token_tag[1]\n",
    "            try:\n",
    "                if self.final_ct[token]<ct:\n",
    "                    self.final_pos[token]=tag\n",
    "                    self.final_ct[token]=ct\n",
    "            except:\n",
    "                self.final_pos[token]=tag\n",
    "                self.final_ct[token]=ct\n",
    "    def get_accuracy(self):\n",
    "        total_tokens = 0\n",
    "        error_ct = 0\n",
    "        for indx,fname in enumerate(os.listdir(self.dirname)):\n",
    "            if indx<self.train_size:\n",
    "                continue\n",
    "            if re.match(r'c.+',fname)==None:\n",
    "                continue\n",
    "            fname = os.path.join(self.dirname,fname)\n",
    "            if not os.path.isfile(fname):\n",
    "                continue\n",
    "            for line in open(fname):\n",
    "                token_tags = [t.split('/') for t in line.split() if len(t.split('/'))==2]\n",
    "                total_tokens += len(token_tags)\n",
    "                for token,tag in token_tags:\n",
    "                    token = str(token).lower()\n",
    "                    try:\n",
    "                        if tag!=self.final_pos[token]:\n",
    "                            error_ct+=1\n",
    "                    except:\n",
    "                        pass\n",
    "        return 1-error_ct/float(total_tokens)\n",
    "    def nltk_tagger_accuracy(self):\n",
    "        total_tokens = 0\n",
    "        error_ct = 0\n",
    "        for indx,fname in enumerate(os.listdir(self.dirname)):\n",
    "            if indx<self.train_size:\n",
    "                continue\n",
    "            if re.match(r'c.+',fname)==None:\n",
    "                continue\n",
    "            fname = os.path.join(self.dirname,fname)\n",
    "            if not os.path.isfile(fname):\n",
    "                continue\n",
    "            for line in open(fname):\n",
    "                token_tags = [nltk.tag.str2tuple(t) for t in line.split() if len(t.split('/'))==2]\n",
    "                total_tokens += len(token_tags)\n",
    "                tokens = [tt[0] for tt in token_tags]\n",
    "                tokens_txt = \" \".join(tokens)\n",
    "                nltk_tags = nltk.pos_tag(tokens_txt)\n",
    "                for i in range(len(token_tags)):\n",
    "                    nltk_tag = nltk_tags[i][1]\n",
    "                    given_tag = token_tags[i][1]\n",
    "                    if nltk_tag.lower()[:2] != given_tag.lower()[:2]:\n",
    "                        error_ct += 1\n",
    "        return 1-error_ct/float(total_tokens)"
   ]
  },
  {
   "cell_type": "code",
   "execution_count": 83,
   "metadata": {
    "collapsed": false
   },
   "outputs": [
    {
     "name": "stdout",
     "output_type": "stream",
     "text": [
      "2016-10-16 21:05:47.238152\n",
      "2016-10-16 21:05:48.028085\n",
      "2016-10-16 21:05:48.075190\n"
     ]
    },
    {
     "data": {
      "text/plain": [
       "0.8422427445175061"
      ]
     },
     "execution_count": 83,
     "metadata": {},
     "output_type": "execute_result"
    }
   ],
   "source": [
    "brown = BrownCorpus('/home/debojyoti/brown/')\n",
    "brown.compute_pos_ct()\n",
    "brown.build_pos_oracle()\n",
    "brown.get_accuracy()\n",
    "brown.nltk_tagger_accuracy()"
   ]
  },
  {
   "cell_type": "markdown",
   "metadata": {},
   "source": [
    "## NLTK tagger"
   ]
  },
  {
   "cell_type": "code",
   "execution_count": 71,
   "metadata": {
    "collapsed": false
   },
   "outputs": [
    {
     "data": {
      "text/plain": [
       "[(u'The', u'AT'),\n",
       " (u'Fulton', u'NP-TL'),\n",
       " (u'County', u'NN-TL'),\n",
       " (u'Grand', u'JJ-TL'),\n",
       " (u'Jury', u'NN-TL'),\n",
       " (u'said', u'VBD'),\n",
       " (u'Friday', u'NR'),\n",
       " (u'an', u'AT'),\n",
       " (u'investigation', u'NN'),\n",
       " (u'of', u'IN')]"
      ]
     },
     "execution_count": 71,
     "metadata": {},
     "output_type": "execute_result"
    }
   ],
   "source": [
    "import nltk\n"
   ]
  }
 ],
 "metadata": {
  "kernelspec": {
   "display_name": "Python 2",
   "language": "python",
   "name": "python2"
  },
  "language_info": {
   "codemirror_mode": {
    "name": "ipython",
    "version": 2
   },
   "file_extension": ".py",
   "mimetype": "text/x-python",
   "name": "python",
   "nbconvert_exporter": "python",
   "pygments_lexer": "ipython2",
   "version": "2.7.6"
  }
 },
 "nbformat": 4,
 "nbformat_minor": 1
}
