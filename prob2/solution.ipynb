{
 "cells": [
  {
   "cell_type": "markdown",
   "metadata": {},
   "source": [
    "### Import section"
   ]
  },
  {
   "cell_type": "code",
   "execution_count": 1,
   "metadata": {
    "collapsed": false
   },
   "outputs": [],
   "source": [
    "import os\n",
    "import re\n",
    "import numpy\n",
    "# nltk\n",
    "import nltk\n",
    "from nltk.tokenize import sent_tokenize\n",
    "from nltk.stem import WordNetLemmatizer\n",
    "from nltk.corpus import stopwords\n",
    "# Logger\n",
    "import logging\n",
    "logger = logging.getLogger()\n",
    "logger.setLevel(logging.DEBUG)\n",
    "# Statistical plotting\n",
    "import pandas as pd\n",
    "import matplotlib.pyplot as plt\n",
    "import matplotlib\n",
    "matplotlib.style.use('ggplot')\n",
    "# To print all outputs, not just the last one\n",
    "from IPython.core.interactiveshell import InteractiveShell\n",
    "InteractiveShell.ast_node_interactivity = \"all\"\n",
    "# Scipy & Sklearn\n",
    "from scipy import spatial"
   ]
  },
  {
   "cell_type": "code",
   "execution_count": 3,
   "metadata": {
    "collapsed": false
   },
   "outputs": [
    {
     "name": "stderr",
     "output_type": "stream",
     "text": [
      "INFO:root:Loading Libraries\n"
     ]
    }
   ],
   "source": [
    "logging.info(\"Loading Libraries\")"
   ]
  },
  {
   "cell_type": "markdown",
   "metadata": {},
   "source": [
    "### Data preprocessing"
   ]
  },
  {
   "cell_type": "code",
   "execution_count": 2,
   "metadata": {
    "collapsed": false
   },
   "outputs": [],
   "source": [
    "data_path = \"/home/debojyoti/brown/\"\n",
    "files=[os.path.join(data_path,f) for f in os.listdir(data_path) if re.match(r'c.+',f)!=None]\n",
    "vocab = set([])\n",
    "wordnet_lemmatizer = WordNetLemmatizer()\n",
    "texts=[]\n",
    "for infile in files:\n",
    "    with open(infile) as myfile:\n",
    "        data_orig=myfile.read()\n",
    "        data = re.sub(r\"(\\S+)/(\\S+)\",r\"\\1\",data_orig,flags=re.DOTALL)\n",
    "        labels = re.sub(r\"(\\S+)/(\\S+)\",r\"\\2\",data_orig,flags=re.DOTALL)\n",
    "        # whitespace removal and Stemming\n",
    "        lst=[]\n",
    "        for elem,label in zip(data.split(),labels.split()):\n",
    "            if re.match(r'vb.*',label)!=None:\n",
    "                lst.append(wordnet_lemmatizer.lemmatize(elem,pos='v'))\n",
    "            elif re.match(r'nn.*',label)!=None:\n",
    "                lst.append(wordnet_lemmatizer.lemmatize(elem,pos='n'))\n",
    "            else:\n",
    "                lst.append(elem)\n",
    "        lst=[str(i) for i in lst]\n",
    "        data = \" \".join(lst)\n",
    "        # Replace number with pseudowords\n",
    "        data = re.sub(r\"\\d+(.\\d+)?\",\"NUM\",data)\n",
    "        texts.append(data)\n",
    "        # Tokenize\n",
    "        tokens = nltk.word_tokenize(data)\n",
    "        # Build vocabulary\n",
    "        vocab.update(set(tokens))\n",
    "vocabulary = numpy.asarray(sorted(vocab))\n",
    "indices = numpy.arange(vocabulary.size)\n",
    "word2indx = {}\n",
    "for key,val in zip(vocabulary,indices):\n",
    "    word2indx[key]=val"
   ]
  },
  {
   "cell_type": "markdown",
   "metadata": {},
   "source": [
    "### Sentence segmenter"
   ]
  },
  {
   "cell_type": "code",
   "execution_count": 11,
   "metadata": {
    "collapsed": false
   },
   "outputs": [],
   "source": [
    "texts = numpy.asarray(texts)\n",
    "for text in texts:\n",
    "    sentences = sent_tokenize(text)"
   ]
  },
  {
   "cell_type": "markdown",
   "metadata": {},
   "source": [
    "### BrownCorpus class generating sentences"
   ]
  },
  {
   "cell_type": "code",
   "execution_count": 139,
   "metadata": {
    "collapsed": true
   },
   "outputs": [],
   "source": [
    "class BrownCorpus(object):\n",
    "    def __init__(self,dirname):\n",
    "        self.dirname = dirname\n",
    "        self.stops = set(stopwords.words(\"english\"))        \n",
    "    def __iter__(self):\n",
    "        for fname in os.listdir(self.dirname):\n",
    "            if re.match(r'c.+',fname)==None:\n",
    "                continue\n",
    "            fname = os.path.join(self.dirname,fname)\n",
    "            if not os.path.isfile(fname):\n",
    "                continue\n",
    "            for line in open(fname):\n",
    "                token_tags = [t.split('/') for t in line.split() if len(t.split('/'))==2]\n",
    "#                 words = [\"%s/%s\" %(token.lower(),tag[:2]) for token,tag in token_tags if tag[:2].isalpha()]\n",
    "#                 if not words:\n",
    "#                     continue\n",
    "                sentence = [token.lower() for token,tag in token_tags if tag[:2].isalpha()]\n",
    "                yield sentence\n",
    "#                 yield words"
   ]
  },
  {
   "cell_type": "markdown",
   "metadata": {},
   "source": [
    "### Creating Model and Save"
   ]
  },
  {
   "cell_type": "code",
   "execution_count": 141,
   "metadata": {
    "collapsed": false
   },
   "outputs": [],
   "source": [
    "import gensim\n",
    "sentences = BrownCorpus('/home/debojyoti/brown/')\n",
    "bigram_transformer = gensim.models.Phrases(sentences)\n",
    "# model = gensim.models.Word2Vec(sentences, min_count=10, size=300, window=5, workers=4)\n",
    "model = gensim.models.Word2Vec(bigram_transformer[sentences], min_count=10, size=300, window=5, workers=4)\n",
    "model.most_similar(positive=['woman', 'king'], negative=['man'])\n",
    "model.save('/home/debojyoti/nlp/assignment2/w2v_model/brown_model.bin')"
   ]
  },
  {
   "cell_type": "markdown",
   "metadata": {},
   "source": [
    "### Load the model from disk and test it"
   ]
  },
  {
   "cell_type": "code",
   "execution_count": 147,
   "metadata": {
    "collapsed": false
   },
   "outputs": [],
   "source": [
    "model = gensim.models.Word2Vec.load('/home/debojyoti/nlp/assignment2/w2v_model/brown_model.bin')\n",
    "model.doesnt_match(\"man woman child kitchen ass\".split())\n",
    "model.most_similar(\"sound\")\n",
    "model['computer']\n",
    "model.similarity('woman', 'lock')"
   ]
  },
  {
   "cell_type": "markdown",
   "metadata": {},
   "source": [
    "### Cosine similarity histogram data"
   ]
  },
  {
   "cell_type": "code",
   "execution_count": 198,
   "metadata": {
    "collapsed": false
   },
   "outputs": [
    {
     "name": "stdout",
     "output_type": "stream",
     "text": [
      "[2692 5215    0    0    0    0    0    0    0    0]\n"
     ]
    },
    {
     "data": {
      "image/png": "[encoded data removed]",
      "text/plain": [
       "<matplotlib.figure.Figure at 0x7f1166711e90>"
      ]
     },
     "metadata": {},
     "output_type": "display_data"
    }
   ],
   "source": [
    "def build_histogram_data():\n",
    "    # model_100b = gensim.models.Word2Vec.load_word2vec_format('/home/debojyoti/nlp/GoogleNews-vectors-negative300.bin', binary = True, unicode_errors = 'ignore')\n",
    "    vec_pairs = ((model[word],model_100b[str(word)]) for word in model.index2word if str(word) in model_100b)\n",
    "    similarities = []\n",
    "    count=numpy.zeros(10,dtype=numpy.uint16)\n",
    "    for iter in vec_pairs:\n",
    "        similarity = (1 - spatial.distance.cosine(iter[0],iter[1]))+1 #range shifted to 0-2\n",
    "        similarities.append(similarity)\n",
    "        count[(similarity*10)//10]+=1\n",
    "#     print count\n",
    "    bins = numpy.arange(-1,1.01,0.2)\n",
    "    plt.hist(numpy.array(similarities)-1,bins=bins)\n",
    "    plt.xlabel(\"cosine similarity(bin size = 0.2)\")\n",
    "    plt.ylabel(\"count\")\n",
    "    plt.show()\n",
    "\n",
    "build_histogram_data()"
   ]
  }
 ],
 "metadata": {
  "kernelspec": {
   "display_name": "Python 2",
   "language": "python",
   "name": "python2"
  },
  "language_info": {
   "codemirror_mode": {
    "name": "ipython",
    "version": 2
   },
   "file_extension": ".py",
   "mimetype": "text/x-python",
   "name": "python",
   "nbconvert_exporter": "python",
   "pygments_lexer": "ipython2",
   "version": "2.7.6"
  }
 },
 "nbformat": 4,
 "nbformat_minor": 1
}
