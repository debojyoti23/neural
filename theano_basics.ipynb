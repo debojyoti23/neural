{
 "cells": [
  {
   "cell_type": "code",
   "execution_count": 70,
   "metadata": {
    "collapsed": false
   },
   "outputs": [],
   "source": [
    "import theano\n",
    "import numpy\n",
    "import theano.tensor as T\n",
    "from theano import function\n",
    "from theano import In"
   ]
  },
  {
   "cell_type": "code",
   "execution_count": 1,
   "metadata": {
    "collapsed": false
   },
   "outputs": [],
   "source": [
    "import nltk"
   ]
  },
  {
   "cell_type": "code",
   "execution_count": null,
   "metadata": {
    "collapsed": true
   },
   "outputs": [],
   "source": [
    "from theano import shared"
   ]
  },
  {
   "cell_type": "code",
   "execution_count": null,
   "metadata": {
    "collapsed": true
   },
   "outputs": [],
   "source": [
    "from theano import pp"
   ]
  },
  {
   "cell_type": "code",
   "execution_count": null,
   "metadata": {
    "collapsed": false
   },
   "outputs": [],
   "source": [
    "x,y=T.fscalars('x','y')\n",
    "#y=T.dscalar('y')\n",
    "z=x+y\n",
    "#f=function([x,y],z)\n",
    "print z.eval({x:1,y:6})\n",
    "f=function([x,In(y,value=1)],z)"
   ]
  },
  {
   "cell_type": "code",
   "execution_count": null,
   "metadata": {
    "collapsed": false
   },
   "outputs": [],
   "source": [
    "f(5)"
   ]
  },
  {
   "cell_type": "code",
   "execution_count": null,
   "metadata": {
    "collapsed": false
   },
   "outputs": [],
   "source": [
    "f(2,3)"
   ]
  },
  {
   "cell_type": "code",
   "execution_count": null,
   "metadata": {
    "collapsed": false
   },
   "outputs": [],
   "source": [
    "x.type is T.dscalar"
   ]
  },
  {
   "cell_type": "code",
   "execution_count": null,
   "metadata": {
    "collapsed": false
   },
   "outputs": [],
   "source": [
    "u,v=T.dmatrices('U','V')\n",
    "#v=T.dmatrix('V')\n",
    "w=u+v\n",
    "f1=function([u,v],w)\n",
    "f1([[1,2],[3,4]],[[1,1],[2,2]])"
   ]
  },
  {
   "cell_type": "code",
   "execution_count": null,
   "metadata": {
    "collapsed": false
   },
   "outputs": [],
   "source": [
    "w.type"
   ]
  },
  {
   "cell_type": "code",
   "execution_count": null,
   "metadata": {
    "collapsed": false,
    "scrolled": true
   },
   "outputs": [],
   "source": [
    "s=1/(1+T.exp(-x))\n",
    "t=(1+T.tanh(x/2))/2\n",
    "f=function([x],[s,t])\n",
    "f(2)"
   ]
  },
  {
   "cell_type": "markdown",
   "metadata": {},
   "source": [
    "## Shared variable"
   ]
  },
  {
   "cell_type": "code",
   "execution_count": null,
   "metadata": {
    "collapsed": false
   },
   "outputs": [],
   "source": [
    "state=shared(0)\n",
    "print(state.get_value())"
   ]
  },
  {
   "cell_type": "code",
   "execution_count": null,
   "metadata": {
    "collapsed": false
   },
   "outputs": [],
   "source": [
    "inc=T.iscalar('increment')\n",
    "acc=function([inc],state,updates=[(state,state+inc)])\n",
    "acc(3)"
   ]
  },
  {
   "cell_type": "code",
   "execution_count": null,
   "metadata": {
    "collapsed": false
   },
   "outputs": [],
   "source": [
    "print(state.get_value())"
   ]
  },
  {
   "cell_type": "code",
   "execution_count": null,
   "metadata": {
    "collapsed": false
   },
   "outputs": [],
   "source": [
    "state.set_value(0)\n",
    "print(state.get_value())"
   ]
  },
  {
   "cell_type": "markdown",
   "metadata": {},
   "source": [
    "## Skip shared variable\n",
    "\n",
    "Following is an example of to skip shared variable"
   ]
  },
  {
   "cell_type": "code",
   "execution_count": null,
   "metadata": {
    "collapsed": false
   },
   "outputs": [],
   "source": [
    "fn_out=state*2+inc\n",
    "foo=T.scalar(dtype=state.dtype)\n",
    "skip_shared=function([inc,foo],fn_out,givens=[(state,foo)],on_unused_input='ignore')\n",
    "skip_shared(2,5)"
   ]
  },
  {
   "cell_type": "markdown",
   "metadata": {},
   "source": [
    "## Computing gradient"
   ]
  },
  {
   "cell_type": "code",
   "execution_count": null,
   "metadata": {
    "collapsed": false
   },
   "outputs": [],
   "source": [
    "x=T.dscalar('x')\n",
    "y=T.exp(-x)/(1+T.exp(-x))\n",
    "gy=T.grad(y,x)\n",
    "pp(gy)\n",
    "# theano.printing.debugprint(gy)"
   ]
  },
  {
   "cell_type": "markdown",
   "metadata": {},
   "source": [
    "## Scan: compute polynomial"
   ]
  },
  {
   "cell_type": "code",
   "execution_count": 7,
   "metadata": {
    "collapsed": false
   },
   "outputs": [
    {
     "name": "stdout",
     "output_type": "stream",
     "text": [
      "23.0\n",
      "23.0\n"
     ]
    }
   ],
   "source": [
    "coefficients = T.vector('coefficients')\n",
    "x=T.scalar('x')\n",
    "max_coef=100\n",
    "components, updates = theano.scan(fn=lambda coefficient,power,freevar: coefficient*(freevar**power),\n",
    "                                  outputs_info=None,\n",
    "                                  sequences=[coefficients,T.arange(max_coef)],\n",
    "                                  non_sequences=x\n",
    "                                 )\n",
    "polynomial=components.sum()\n",
    "calc_poly=function([coefficients,x],polynomial)\n",
    "test_coef=numpy.asarray([2,4,1],dtype=numpy.float32)\n",
    "test_val=3\n",
    "print calc_poly(test_coef,test_val)\n",
    "print (2.0*(3**0)+4*(3**1)+1*(3**2))"
   ]
  },
  {
   "cell_type": "code",
   "execution_count": 143,
   "metadata": {
    "collapsed": false
   },
   "outputs": [
    {
     "data": {
      "text/plain": [
       "array([ 4.  ,  2.5 ,  2.  ,  1.75])"
      ]
     },
     "execution_count": 143,
     "metadata": {},
     "output_type": "execute_result"
    }
   ],
   "source": [
    "x=T.vector('x')\n",
    "k=T.iscalar('k')\n",
    "# outputs_info=T.as_tensor_variable(numpy.asarray(0,dtype=x.dtype))\n",
    "outputs_info=T.ones_like(x)\n",
    "results,updates = theano.scan(fn=lambda prev,x: prev+1/x,\n",
    "                              outputs_info=outputs_info,\n",
    "                              non_sequences=x,\n",
    "                              n_steps=k)\n",
    "f=function(inputs=[k,x],outputs=results[-1],updates=updates)\n",
    "f(3,range(1,5))"
   ]
  },
  {
   "cell_type": "code",
   "execution_count": null,
   "metadata": {
    "collapsed": false
   },
   "outputs": [],
   "source": [
    "T.neq([1,2,3,4,5],[7,2,3,4,9]).eval()"
   ]
  },
  {
   "cell_type": "code",
   "execution_count": 67,
   "metadata": {
    "collapsed": false
   },
   "outputs": [
    {
     "name": "stdout",
     "output_type": "stream",
     "text": [
      "[2 3]\n",
      "[3 4]\n"
     ]
    },
    {
     "data": {
      "text/plain": [
       "array([[ 0.99752738,  1.        ,  0.99999998,  1.        ],\n",
       "       [ 1.        ,  1.        ,  1.        ,  1.        ]])"
      ]
     },
     "execution_count": 67,
     "metadata": {},
     "output_type": "execute_result"
    }
   ],
   "source": [
    "x=theano.shared(name='x',value=numpy.asarray([[1,2,3],[10,20,30]]).astype(theano.config.floatX))\n",
    "w=theano.shared(name='w',value=numpy.asarray([[1,2,3,4],\n",
    "   [1,2,3,5],\n",
    "   [1,7,3,4]]).astype(theano.config.floatX))\n",
    "print x.shape.eval()\n",
    "print w.shape.eval()\n",
    "b=theano.shared(name='b',value=numpy.ones(3,dtype=theano.config.floatX))\n",
    "T.dot(x,w).eval()\n",
    "T.nnet.sigmoid(T.dot(x,w)).eval()"
   ]
  },
  {
   "cell_type": "code",
   "execution_count": 105,
   "metadata": {
    "collapsed": false
   },
   "outputs": [
    {
     "name": "stdout",
     "output_type": "stream",
     "text": [
      "[[[ 0.28829626  0.76316841  0.4144818 ]\n",
      "  [ 0.13689352  0.38445645  0.41134934]\n",
      "  [ 0.63894833  0.82534978  0.7540116 ]\n",
      "  [ 0.10697035  0.49909223  0.83461933]\n",
      "  [ 0.31361896  0.78747879  0.53378372]]\n",
      "\n",
      " [[ 0.09712202  0.83871254  0.97799954]\n",
      "  [ 0.9674433   0.77115889  0.48363575]\n",
      "  [ 0.59755713  0.08666709  0.71333459]\n",
      "  [ 0.66909947  0.61578809  0.75785906]\n",
      "  [ 0.37631077  0.93831452  0.74956211]]\n",
      "\n",
      " [[ 0.68755623  0.44909189  0.95416577]\n",
      "  [ 0.77343921  0.70491339  0.4773451 ]\n",
      "  [ 0.86440994  0.66326133  0.65763288]\n",
      "  [ 0.16410777  0.29604263  0.62964892]\n",
      "  [ 0.77107758  0.8711491   0.89976546]]\n",
      "\n",
      " [[ 0.61352857  0.48497414  0.05859162]\n",
      "  [ 0.06684549  0.8577607   0.48028602]\n",
      "  [ 0.01558257  0.05621241  0.17184488]\n",
      "  [ 0.71377493  0.01853575  0.03554421]\n",
      "  [ 0.98952761  0.2285276   0.97141284]]]\n"
     ]
    },
    {
     "data": {
      "text/plain": [
       "array([[[ 0.42739907,  0.99462243,  0.00213211,  0.99727844]],\n",
       "\n",
       "       [[ 0.3521462 ,  0.65991659,  0.35201791,  0.22156737]],\n",
       "\n",
       "       [[ 0.62052579,  0.65337054,  0.27860873,  0.79256099]],\n",
       "\n",
       "       [[ 0.22682375,  0.14107607,  0.12705962,  0.90014864]],\n",
       "\n",
       "       [[ 0.54324146,  0.13915365,  0.09249289,  0.57076875]]])"
      ]
     },
     "execution_count": 105,
     "metadata": {},
     "output_type": "execute_result"
    }
   ],
   "source": [
    "a=theano.shared(numpy.random.rand(4,5,3))\n",
    "# print numpy.reshape(a,(3,2,-1))\n",
    "print a.eval()\n",
    "a.dimshuffle(1,2,0).eval()\n",
    "b=theano.shared(numpy.random.rand(4,5))\n",
    "b.dimshuffle(1,'x',0).eval()"
   ]
  },
  {
   "cell_type": "code",
   "execution_count": 168,
   "metadata": {
    "collapsed": false
   },
   "outputs": [
    {
     "name": "stdout",
     "output_type": "stream",
     "text": [
      "[2 5]\n",
      "[2 1]\n",
      "[2 1]\n"
     ]
    }
   ],
   "source": [
    "# Normalize vector\n",
    "x = theano.shared(value=numpy.asarray([[1,2,3,4,5],[6,7,8,1,2]]).astype(theano.config.floatX))\n",
    "print x.shape.eval()\n",
    "\n",
    "print T.sqrt((x**2).sum(axis=1)).dimshuffle(0,'x').shape.eval()\n",
    "# x = x / T.sqrt((x**2).sum(axis=1)).dimshuffle(0,'x')\n",
    "# y = theano.shared(value=numpy.ones_like(x)*2)\n",
    "y = theano.shared(value=numpy.asarray([[2],[3]]).astype(theano.config.floatX))\n",
    "# print y.shape.eval()\n",
    "print y.shape.eval()\n",
    "z=x/y"
   ]
  }
 ],
 "metadata": {
  "kernelspec": {
   "display_name": "Python 2",
   "language": "python",
   "name": "python2"
  },
  "language_info": {
   "codemirror_mode": {
    "name": "ipython",
    "version": 2
   },
   "file_extension": ".py",
   "mimetype": "text/x-python",
   "name": "python",
   "nbconvert_exporter": "python",
   "pygments_lexer": "ipython2",
   "version": "2.7.6"
  }
 },
 "nbformat": 4,
 "nbformat_minor": 1
}
